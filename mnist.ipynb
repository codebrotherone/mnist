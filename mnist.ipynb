{
 "cells": [
  {
   "cell_type": "markdown",
   "metadata": {
    "slideshow": {
     "slide_type": "notes"
    }
   },
   "source": [
    "Make sure you do two things:\n",
    "    Confirm these settings:\n",
    "        \"livereveal\": {\n",
    "        \"height\": 1024,\n",
    "        \"scroll\": true,\n",
    "        \"theme\": \"sky\",\n",
    "        \"width\": 2048\n",
    "      }\n",
    "      \n",
    "      Also ensure that zoom is at 80%"
   ]
  },
  {
   "cell_type": "markdown",
   "metadata": {
    "slideshow": {
     "slide_type": "slide"
    }
   },
   "source": [
    "<h1 align='center'>Welcome to the Cerebro lunch and learn!</h1>\n",
    "\n",
    "\n",
    "<center><img src=\"src/cerebro_logo.png\" alt=\"hi\" class=\"inline\" style=\"width:300;height:200px\" vspace=\"10\"/></center>\n",
    "\n",
    "<b>Today</b> we will be going through the classic 'MNIST' tutorial. By the end of this demo we will:\n",
    "\n",
    "1. Train a Neural Network to predict Digits from the curated MNIST dataset\n",
    "2. See if we can use this model to predict our own handwriting! "
   ]
  },
  {
   "cell_type": "markdown",
   "metadata": {
    "slideshow": {
     "slide_type": "slide"
    }
   },
   "source": [
    "<h2 align='center'>While we pass around the Note</h2> \n",
    "\n",
    "<center><img src=\"src/note.png\" alt=\"hi\" class=\"inline\" vspace=\"20\"/></center>\n",
    "\n",
    "<h2 align='center'>let's talk shop</h2>\n",
    "\n",
    "<h4 align='left-indent'>What is machine learning?</h4>\n",
    "\n",
    "\n",
    "- ... a `buzzword` that refers to the practice of taking data, and applying algorithms to determine and predict behaviors, patterns, trends, using computers. \n",
    "- “.... the science of getting computers to act without being explicitly programmed.” – [Stanford, Coursera, Andrew Ng -- Former Head of Google Brain](https://www.coursera.org/learn/machine-learning)\n"
   ]
  },
  {
   "cell_type": "markdown",
   "metadata": {
    "slideshow": {
     "slide_type": "slide"
    }
   },
   "source": [
    "# Technically, ML has been around since the 1950, but only recently has it started to really take the world by storm. \n",
    "\n",
    "## [Why?](https://www.forbes.com/sites/bernardmarr/2016/02/19/a-short-history-of-machine-learning-every-manager-should-read/#3233d50a15e7) \n",
    "\n",
    " Well because, it's readily available to anyone now with the advent of cloud computing (Thank you SoftLayer!) and because of the brilliant developers and researchers that have redefined the limits of machine learning.\n",
    "\n",
    "<h2>Quick History</h2>\n",
    "\n",
    "\n",
    "- 1950 <b>Alan Turing</b> creates turing test (can a machine fool a human?). \n",
    "\n",
    "- 1952 <b>Arthur Samuel (IBM)</b> designed a model that could learn how to play checkers, becoming more efficient over time.\n",
    "\n",
    "- 1997 <b>IBM Deep Blue</b> beats World Chess Champion using ML.\n",
    "\n",
    "- 2006 <b>Geoff Hinton</b>, considered the 'Godfather of Deep Learning', basically created and proved the concept of artificial neural nets, back propagation, deep belief networks, etc...\n",
    "\n",
    "- 2011 <b>Watson vs. Jeopardy</b>  Watson beats Jeopardy winners, Ken Jennings and Brad Rutter\n",
    "\n",
    "- 2015 <b>GoogLeNet</b> is a 22 layer CNN and was the winner of ILSVRC 2014 with a top 5 error rate of 6.7% when it came to image classification.\n",
    "\n",
    "\n",
    "\n",
    "<center><img src=\"src/deep_blue.jpg\" alt=\"hi\" class=\"inline\" vspace=\"10\"/></center>\n",
    "\n"
   ]
  },
  {
   "cell_type": "markdown",
   "metadata": {
    "slideshow": {
     "slide_type": "slide"
    }
   },
   "source": [
    "<h1>Okay, so what's the difference between machine learning vs. conv nets vs. deep learning?</h1>\n",
    "\n",
    "\n",
    "- Convolutional Neural Networks, Deep Neural Networks, Deep Learning Algorithms, etc.... are all _subsets_ of <b>ML.</b>\n",
    "- They are all methods and practices used to teach machines how to learn and predict insightful data\n",
    "\n",
    "# What does it look like?\n",
    "\n",
    "<center><img src=\"src/neural_network_graph.jpg\" alt=\"well crap\" class=\"inline\" vspace=\"20\"/></center>\n",
    "\n",
    "\n"
   ]
  },
  {
   "cell_type": "markdown",
   "metadata": {
    "slideshow": {
     "slide_type": "slide"
    }
   },
   "source": [
    "\n",
    "<b>Current Applications</b>\n",
    "- Self Driving Cars (Tesla)\n",
    "- Image Detection and Tracking (Computer Vision)\n",
    "- AI - IBM Watson \n",
    "- Data Predictions (predicting when wells run dry, potential networking issues- optimal path, etc...)\n",
    "- Model real world data and develop insights (commercial/retail, trends, stocks)\n",
    "\n",
    "<b>What's the point?</b>\n",
    "\n",
    "- Stand on the shoulders of giants. \n",
    "- Having PHD/M.S. degree does not equate to ML Expertise\n",
    "- Anyone with desire and commitment can learn what methods and techniques can be applied to tackle difficult problems, even if they don't have an advanced degree in mathematics or 10 years of research experience.\n",
    "- Why not leverage what we can? \n"
   ]
  },
  {
   "cell_type": "markdown",
   "metadata": {
    "slideshow": {
     "slide_type": "subslide"
    }
   },
   "source": [
    "\n",
    "\n",
    "\n",
    "<center><img src=\"src/ml_reality.jpg\" alt=\"hi\" class=\"inline\" height=\"600\" width=\"800\" vspace=\"10\"/></center>\n"
   ]
  },
  {
   "cell_type": "markdown",
   "metadata": {
    "slideshow": {
     "slide_type": "slide"
    }
   },
   "source": [
    "<h2 align = \"center\">Back to our agenda</h2>\n",
    "\n",
    "- Train a Nueral Network to predict Digits from the curated MNIST dataset\n",
    "- See if we can use this model to predict our own handwriting! \n",
    "\n",
    "\n",
    "<h3>What is the `hello world` of Tensor Flow? (Keras, SKLearn, etc...)</h3>\n",
    "\n",
    "* It is commonly referred to as the MNIST tutorial (784, 28x8)\n",
    "\n",
    "* The tutorial will train a model using a handwritten dataset (labeled, supervised learning) that can beat a human at recognizing digits in images.  \n",
    "\n",
    "\n",
    "<b>Note: [The average human error rate is around 2-2.5%](https://papers.nips.cc/paper/656-efficient-pattern-recognition-using-a-new-transformation-distance.pdf)</b>\n",
    "\n",
    "\n",
    "<h3>What is MNIST?</h3>\n",
    "\n",
    "A curated handwritten dataset used for this tutorial\n",
    "- MNIST Dataset (Handwritten dataset of 60k/10k labeled train/test images. \n",
    "- What is the current state of the art? \n",
    "    - [.23% Error rate!! (ICML 2013)](http://rodrigob.github.io/are_we_there_yet/build/classification_datasets_results.html)\n",
    "\n"
   ]
  },
  {
   "cell_type": "markdown",
   "metadata": {
    "slideshow": {
     "slide_type": "slide"
    }
   },
   "source": [
    "<center><h1>Example Images from MNIST!</h1></center>\n",
    "\n",
    "<center><img src=\"src/example_mnist_imgs.png\" alt=\"hi\" class=\"inline\" vspace=\"10\"/></center>\n"
   ]
  },
  {
   "cell_type": "code",
   "execution_count": 18,
   "metadata": {
    "slideshow": {
     "slide_type": "slide"
    }
   },
   "outputs": [
    {
     "name": "stdout",
     "output_type": "stream",
     "text": [
      "Model Compiled! -- <keras.models.Sequential object at 0x000000002096EDD8>\n"
     ]
    }
   ],
   "source": [
    "import time\n",
    "import cv2\n",
    "import numpy as np\n",
    "import os\n",
    "\n",
    "from keras.datasets import mnist\n",
    "from keras.models import Sequential\n",
    "from keras.layers import Dense, Activation, Flatten, Dropout\n",
    "from keras.utils import np_utils\n",
    "from matplotlib import pyplot as plt\n",
    "%matplotlib inline\n",
    "\n",
    "def mlp_model(input_shape, num_classes=10):\n",
    "    \"\"\"\n",
    "    Multilayer perceptron model. Not a very deep network.\n",
    "    :param input_dim:\n",
    "    :param num_classes:\n",
    "    :return:\n",
    "    \"\"\"\n",
    "    # An \"activation\" is just a non-linear function applied to the output\n",
    "    # of the layer above. Here, with a \"rectified linear unit\",\n",
    "    # we clamp all values below 0 to 0.\n",
    "    \n",
    "    # This special \"softmax\" activation among other things,\n",
    "    # ensures the output is a valid probaility distribution, that is\n",
    "    # that its values are all non-negative and sum to 1.\n",
    "    \n",
    "    # Credits: https://github.com/wxs/keras-mnist-tutorial/blob/master/MNIST%20in%20Keras.ipynb\n",
    "    # Xavier Snelgrove - cofounder of WhirlScape\n",
    "    model = Sequential()\n",
    "    model.add(Dense(512, input_shape=input_shape, kernel_initializer='normal', activation='relu'))\n",
    "    model.add(Dropout(0.2)) # Dropout helps protect the model from memorizing or \"overfitting\" the training data\n",
    "    model.add(Dense(512, input_shape=input_shape, kernel_initializer='normal', activation='relu'))\n",
    "    model.add(Dropout(0.2)) \n",
    "    model.add(Dense(num_classes, kernel_initializer='normal', activation='softmax'))\n",
    "    model.compile(loss='categorical_crossentropy', optimizer='adam', metrics=['accuracy'])\n",
    "    print(\"Model Compiled! -- {}\".format(model))\n",
    "    return model\n",
    "\n",
    "model=mlp_model((784,))"
   ]
  },
  {
   "cell_type": "code",
   "execution_count": 6,
   "metadata": {
    "slideshow": {
     "slide_type": "slide"
    }
   },
   "outputs": [
    {
     "name": "stdout",
     "output_type": "stream",
     "text": [
      "--------------------reading data--------------------\n",
      "Training dataset shape: (60000, 28, 28)\n",
      "Testing dataset shape: (10000, 28, 28)\n",
      "--------------------creating model and training data--------------------\n",
      "Model Compiled! -- <keras.models.Sequential object at 0x00000000061A7E80>\n",
      "<keras.models.Sequential object at 0x00000000061A7E80>\n",
      "timer started...\n",
      "Epoch 1/10\n",
      "60000/60000 [==============================] - 22s 374us/step - loss: 0.2166 - acc: 0.9338\n",
      "Epoch 2/10\n",
      "60000/60000 [==============================] - 23s 377us/step - loss: 0.1062 - acc: 0.9672\n",
      "Epoch 3/10\n",
      "60000/60000 [==============================] - 22s 372us/step - loss: 0.0797 - acc: 0.9743\n",
      "Epoch 4/10\n",
      "60000/60000 [==============================] - 22s 372us/step - loss: 0.0649 - acc: 0.9798\n",
      "Epoch 5/10\n",
      "60000/60000 [==============================] - 23s 387us/step - loss: 0.0579 - acc: 0.9818\n",
      "Epoch 6/10\n",
      "60000/60000 [==============================] - 23s 390us/step - loss: 0.0524 - acc: 0.9843\n",
      "Epoch 7/10\n",
      "60000/60000 [==============================] - 23s 383us/step - loss: 0.0442 - acc: 0.9871\n",
      "Epoch 8/10\n",
      "60000/60000 [==============================] - 24s 395us/step - loss: 0.0468 - acc: 0.9855\n",
      "Epoch 9/10\n",
      "60000/60000 [==============================] - 23s 379us/step - loss: 0.0364 - acc: 0.9885\n",
      "Epoch 10/10\n",
      "60000/60000 [==============================] - 23s 389us/step - loss: 0.0376 - acc: 0.9890\n"
     ]
    }
   ],
   "source": [
    "\n",
    "#Let's read the data\n",
    "print('-'*20+'reading data'+'-'*20)\n",
    "(x_train, y_train), (x_test, y_test) = mnist.load_data()\n",
    "# fix random seed for reproducibility\n",
    "seed = 7\n",
    "np.random.seed(seed)\n",
    "\n",
    "# flatten 28*28 images to a 784 vector for each image, and scale from 0 - 1\n",
    "num_pixels = x_train.shape[1] * x_train.shape[2]\n",
    "X_train = x_train.reshape(x_train.shape[0], num_pixels).astype('float32')/255.\n",
    "X_test = x_test.reshape(x_test.shape[0], num_pixels).astype('float32')/255.\n",
    "print('Training dataset shape: {}'.format(x_train.shape))\n",
    "print('Testing dataset shape: {}'.format(x_test.shape))\n",
    "Y_train = np_utils.to_categorical(y_train, 10)\n",
    "Y_test = np_utils.to_categorical(y_test, 10)\n",
    "\n",
    "print('-'*20+'creating model and training data'+'-'*20)\n",
    "model = mlp_model((784, ), num_classes=10)\n",
    "print(model)\n",
    "print('timer started...')\n",
    "start = time.time()\n",
    "model.fit(X_train, Y_train, epochs=10, batch_size=32)\n",
    "end = time.time()\n"
   ]
  },
  {
   "cell_type": "markdown",
   "metadata": {
    "slideshow": {
     "slide_type": "slide"
    }
   },
   "source": [
    "# While the model trains... what does the model actually do? \n",
    "\n",
    "<h4>Well Let's say we have an sensor (independent variable) that results in a value that we want to predict (dependant variable)</h4>\n",
    "\n",
    "<center><img src=\"src/underovergraphs.png\" alt=\"hi\" class=\"inline\" vspace=\"10\"/></center>\n",
    "\n",
    "<center><img src=\"src/underovergraph2.png\" alt=\"hi\" class=\"inline\" vspace=\"10\"/></center>\n",
    "\n",
    "credits: Lucas Liew, StackExchange"
   ]
  },
  {
   "cell_type": "markdown",
   "metadata": {
    "slideshow": {
     "slide_type": "subslide"
    }
   },
   "source": [
    "# Easy, right? Well how about the math? \n",
    "\n",
    "<center><img src=\"src/weightsbias.jpg\" alt=\"hi\" class=\"inline\" vspace=\"10\"/></center>\n",
    "\n",
    "### Let's break it down\n",
    "caveat: simplication\n",
    "\n",
    "- activation functions (sigmoid) -- switches, 1 or 0. (Neurons)\n",
    "    What is the collective value of the weights and their respective biases? In this case, what is the probability of a specific feature mapping to an output?\n",
    "- weights -- allow you to determine how strong a given signal is\n",
    "    Say you wanted to put a higher preference on a specific signal vs other features (signal strength)\n",
    "- biases -- allow you to shift curves (y=mx+b) \n",
    "    Say you wanted had the line y=mx+b. If the data was centered say at (0, 2) the line would be a poor fit. \n"
   ]
  },
  {
   "cell_type": "markdown",
   "metadata": {
    "slideshow": {
     "slide_type": "slide"
    }
   },
   "source": [
    "# Okay I understand bias, over and underfitting, but why is this important? \n",
    "\n",
    "- This is how we will describe and augment our model accuracies. By understanding these core concepts we can achieve a great deal of accuracy, while prodding the 'black box' \n",
    "\n",
    "- We can apply 'smart' methods to 'automate' finding the best ways to tune parameters for the model, so that we maximize our accuracy and minimize our losses. \n",
    "  \n",
    "    - Kfolding (Stratified)\n",
    "    - GridSearchCV"
   ]
  },
  {
   "cell_type": "markdown",
   "metadata": {
    "slideshow": {
     "slide_type": "slide"
    }
   },
   "source": [
    "<center><h1>How do you score these models? What does that even mean?</h1></center>\n",
    "\n",
    "<h3 align='left'>First Let's define `score`</h3>\n",
    "  \n",
    "- A score is the overall accuracy returned by the model when ran against our <b>test set</b> (10k images). \n",
    "- <b>Note:</b> our model has never seen these images before, it was only trained on the <b>training set</b> (60k images). \n",
    "\n",
    "\n",
    "<h3 align='left'>What are our metrics?</h3>\n",
    "\n",
    "* Validation Accuracy (as the model runs, take a portion of our training data and test to see what our accuracy is).\n",
    "\n",
    "* Loss: output of our loss function (categorical crossentropy formula)\n",
    "\n"
   ]
  },
  {
   "cell_type": "code",
   "execution_count": 7,
   "metadata": {
    "slideshow": {
     "slide_type": "slide"
    }
   },
   "outputs": [
    {
     "name": "stdout",
     "output_type": "stream",
     "text": [
      "10000/10000 [==============================] - 1s 58us/step\n",
      "Our Test Accuracy was 97.99 and our Overall Loss was 8.49558942409727\n",
      "it took 3.821066669623057 minutes to train the model\n"
     ]
    }
   ],
   "source": [
    "score = model.evaluate(X_test, Y_test)\n",
    "print(\"Our Test Accuracy was {} and our Overall Loss was {}\".format(score[1]*100, score[0]*100))\n",
    "print('it took {} minutes to train the model'.format((end-start)/60.))"
   ]
  },
  {
   "cell_type": "markdown",
   "metadata": {
    "slideshow": {
     "slide_type": "slide"
    }
   },
   "source": [
    "<center><h1> Results </h1></center>\n",
    "\n",
    "Though our results may seem pretty great for the simplicity of the model -- it means nothing if it doesn't accomplish the predefined goal set forward... \n",
    "\n",
    "\n",
    "<h3 align='left'>Takeaways</h3>\n",
    "\n",
    "* Our model was not very deep (6 layers total, 4 hidden, 1 input, 1 output)\n",
    "\n",
    "* We only trained for 10 epochs (number of complete training iterations)\n",
    "\n",
    "* Our accuracy was good! But think what a 2% error rate would mean for self driving cars.."
   ]
  },
  {
   "cell_type": "markdown",
   "metadata": {
    "slideshow": {
     "slide_type": "slide"
    }
   },
   "source": [
    "<center><h1> Now let's test our results on our own images! </h1></center>\n",
    "\n",
    "\n",
    "<center><img src=\"src/standby.jpg\" alt=\"hi\" class=\"inline\" vspace=\"10\"/></center>\n"
   ]
  },
  {
   "cell_type": "markdown",
   "metadata": {
    "slideshow": {
     "slide_type": "skip"
    }
   },
   "source": [
    "<h1>This is where the preprocessing for original handwritten digits happens</h1>"
   ]
  },
  {
   "cell_type": "code",
   "execution_count": 12,
   "metadata": {
    "slideshow": {
     "slide_type": "skip"
    }
   },
   "outputs": [
    {
     "name": "stdout",
     "output_type": "stream",
     "text": [
      "Parsing Images In C:\\Users\\jaehan\\PycharmProjects\\mnist\\mnist_test_imgs\\280x280\\\n",
      "Let's display the first 9 images drawn...\n"
     ]
    },
    {
     "data": {
      "image/png": "[encoded data removed]",
      "text/plain": [
       "<Figure size 432x288 with 6 Axes>"
      ]
     },
     "metadata": {},
     "output_type": "display_data"
    }
   ],
   "source": [
    "import os\n",
    "\n",
    "im_fns = []\n",
    "reshaped_imgs = []\n",
    "\n",
    "img_path = os.path.realpath(os.getcwd()) + \"\\\\mnist_test_imgs\\\\280x280\\\\\"\n",
    "print('Parsing Images In {}'.format(img_path))\n",
    "\n",
    "for fn in os.listdir(img_path):\n",
    "#     print(fn)\n",
    "    if os.path.isdir('mnist_test_imgs\\\\' + fn):\n",
    "#         print('This is a DIR: {}'.format(fn))\n",
    "        continue\n",
    "    else:\n",
    "        im = cv2.imread(img_path + fn, 0)\n",
    "        im_resized = cv2.resize(src=im, dsize=(28,28), interpolation=cv2.INTER_LINEAR)\n",
    "        im_reshaped = im_resized.reshape(1, 784).astype('float32')/255.\n",
    "        im_fns.append(fn)\n",
    "        reshaped_imgs.append(im_reshaped)\n",
    "\n",
    "        \n",
    "        \n",
    "print('Let\\'s display the first 9 images drawn...')\n",
    "fig = plt.figure()\n",
    "for i in range(6):\n",
    "    ax = plt.subplot(3,3,i+1)\n",
    "    plt.imshow(reshaped_imgs[i].reshape(28,28), cmap='gray')\n",
    "    plt.title(\"Test Image {}\".format(im_fns[i]))\n",
    "    fig.subplots_adjust(hspace=2)\n",
    "    ax.set_xticklabels([])\n",
    "    ax.set_yticklabels([])\n",
    "plt.savefig('mnist_first_9_samples')\n",
    "    "
   ]
  },
  {
   "cell_type": "code",
   "execution_count": 25,
   "metadata": {
    "slideshow": {
     "slide_type": "slide"
    }
   },
   "outputs": [
    {
     "name": "stdout",
     "output_type": "stream",
     "text": [
      "The value that was predicted is 1\n"
     ]
    },
    {
     "data": {
      "image/png": "[encoded data removed]",
      "text/plain": [
       "<Figure size 432x288 with 1 Axes>"
      ]
     },
     "metadata": {},
     "output_type": "display_data"
    },
    {
     "data": {
      "image/png": "[encoded data removed]",
      "text/plain": [
       "<Figure size 432x288 with 1 Axes>"
      ]
     },
     "metadata": {},
     "output_type": "display_data"
    },
    {
     "data": {
      "image/png": "[encoded data removed]",
      "text/plain": [
       "<Figure size 432x288 with 1 Axes>"
      ]
     },
     "metadata": {},
     "output_type": "display_data"
    },
    {
     "data": {
      "text/plain": [
       "<Figure size 432x288 with 0 Axes>"
      ]
     },
     "metadata": {},
     "output_type": "display_data"
    }
   ],
   "source": [
    "# fn represents filename i.e. mnist_test_imgs/280x280/1_fat.png\n",
    "# show_img is a bool that will show images if you want\n",
    "# blur will blur the image before returning it with a 3x3 kernel\n",
    "def scale_400(fn, show_img=True, blur=False):\n",
    "    \"\"\"This will scale 280x280 to 28x28 and convert the image to float ranging from 0 to 1\"\"\"\n",
    "    \n",
    "    gray = cv2.imread(fn, 0) # read image in gray\n",
    "    gray=gray/255.\n",
    "    # maintain aspect ratio and scale down 90% to 28x28 image shape\n",
    "    resized_gray = cv2.resize(gray, None, fx=.1, fy=.1, interpolation=cv2.INTER_NEAREST)\n",
    "    # this guy will display the image under this cell inline\n",
    "    if show_img:\n",
    "        plt.imshow(gray, cmap='gray') \n",
    "        plt.title(\"This is before resizing\")\n",
    "        plt.figure()\n",
    "        plt.imshow(resized_gray, cmap='gray') \n",
    "        plt.title(\"This is after resizing\")\n",
    "        plt.figure()\n",
    "        if blur:\n",
    "            blurred = cv2.blur(resized_gray, (3,3))\n",
    "            plt.imshow(blurred, cmap='gray') \n",
    "            plt.title(\"This is after blurring\")\n",
    "            plt.figure()\n",
    "            return blurred\n",
    "    print(\"The shape of our image after resizing is {}\".format(gray.shape))\n",
    "    return resized_gray\n",
    "\n",
    "# if you want to display the image it as easy as:\n",
    "# 1. Read image using im = cv2.imread(image_filename, 0) -> 0 forces the func to read the image as gray (bw)\n",
    "# 2. Pass object into plt.imshow(name_of_im, cmap='gray') -> cmap (color map) by default will not display in grayscale\n",
    "\n",
    "# if you want to predict what digit is in the image using the model make sure to run the model (2 cells) then do\n",
    "# model.predict_classes(im.reshape(1, 784)) --> we have to flatten the 28x28 image into 1x784\n",
    "# the model.predict_classes() function will return a list with one number displaying what was shown\n",
    "\n",
    "# to view the specific accuracies for each class you would need to do model.predict(im.reshape(1,784)) \n",
    "# keep in mind that this will contain a nested list of floats. The first value --> digit 0, second value --> digit 1, etc...\n",
    "\n",
    "# Usage Examples\n",
    "gray = scale_400('mnist_test_imgs/280x280/8_fat.png', show_img=True, blur=True)\n",
    "# plt.imshow(gray, cmap='gray')\n",
    "\n",
    "digit = model.predict_classes(gray.reshape(1, 784))\n",
    "print('The value that was predicted is {}'.format(digit[0]))\n",
    "\n",
    "\n",
    "# gray = scale_400('mnist_test_imgs/280x280/6_fat_2.png', show_img=True, blur=True)\n",
    "# digit = model.predict_classes(gray.reshape(1, 784))\n",
    "# print('The value that was predicted is {}'.format(digit[0]))"
   ]
  },
  {
   "cell_type": "markdown",
   "metadata": {
    "slideshow": {
     "slide_type": "slide"
    }
   },
   "source": [
    "## The struggle is real\n",
    "\n",
    "Remember when we discussed overfitting? This model is notorious for breaking when it comes to deciphering actual hand written digits... but why? Didn't the dataset originally come from curated, handwritten digits? \n",
    "\n",
    "Well here's why:\n",
    "1. The MNIST Dataset providers chose to take very specific methods for curating these images... \n",
    "\n",
    "    *\"The original black and white (bilevel) images from NIST were size normalized to fit in a 20x20 pixel box while preserving their aspect ratio. The resulting images contain grey levels as a result of the anti-aliasing technique used by the normalization algorithm. the images were centered in a 28x28 image by computing the center of mass of the pixels, and translating the image so as to position this point at the center of the 28x28 field.\" - MNIST Site*\n",
    "    \n",
    "    So without those specific steps we cannot recreate the same level of accuracy. This is why preprocessing is important. \n",
    "    \n",
    "    \n",
    "2. Preprocessing is probably the most important task in training an ML algorithm. It is also one of the hardest steps throughout the entire process"
   ]
  },
  {
   "cell_type": "markdown",
   "metadata": {
    "slideshow": {
     "slide_type": "skip"
    }
   },
   "source": [
    "<h1>Everthing under here was me fooling around with different aspect ratios, resizing images and centering them... etc...</h1>"
   ]
  },
  {
   "cell_type": "code",
   "execution_count": null,
   "metadata": {
    "slideshow": {
     "slide_type": "skip"
    }
   },
   "outputs": [],
   "source": [
    "gray = cv2.imread('mnist_test_imgs/400x400/2_.5_25.png', 0)\n",
    "# print('Before resizing the image our image was {} x {}'.format(*gray.shape))\n",
    "gray = gray/255.\n",
    "# gray[gray>.9] = 1\n",
    "# gray[gray<=.9]=0\n",
    "\n",
    "gray = cv2.resize(gray, None, fx=.1, fy=.1, interpolation=cv2.INTER_NEAREST)\n",
    "# convert to 0-1 range\n",
    "\n",
    "\n",
    "while np.sum(gray[0]) == 0:\n",
    "#     print('The top border is black')\n",
    "    if gray.shape[0] == 28:\n",
    "        break\n",
    "    gray = gray[1:]\n",
    "while np.sum(gray[:,0]) == 0:\n",
    "    if gray.shape[1] == 28:\n",
    "        break\n",
    "#     print('The left border is black')\n",
    "    gray = np.delete(gray,0,1)\n",
    "while np.sum(gray[-1]) == 0:\n",
    "    if gray.shape[0] == 28:\n",
    "        break\n",
    "#     print('The bottom border is black')\n",
    "    gray = gray[:-1]\n",
    "while np.sum(gray[:,-1]) == 0:\n",
    "    if gray.shape[1] == 28:\n",
    "        break\n",
    "#     print('The right border is black')\n",
    "    gray = np.delete(gray,-1,1)\n",
    "\n",
    "print(gray.shape)\n",
    "if gray.shape[0] > 28 or gray.shape[1] > 28:\n",
    "    print('uhoh')\n",
    "    gray = cv2.resize(gray, (28,28), interpolation=cv2.INTER_NEAREST)\n",
    "# mnist_size = (28,28)\n",
    "# curr_size = gray.shape\n",
    "# w_diff = mnist_size[1] - curr_size[1]\n",
    "# h_diff = mnist_size[0] - curr_size[0]\n",
    "# top, bottom = h_diff//2, h_diff-(h_diff//2)\n",
    "# left, right = w_diff//2, w_diff-(w_diff//2)\n",
    "# print(top, bottom, left, right)\n",
    "# gray = cv2.copyMakeBorder(gray, top, bottom, left, right, cv2.BORDER_CONSTANT,\n",
    "#     value=0)\n",
    "\n",
    "# gray = cv2.GaussianBlur(gray, (3,3), 0)\n",
    "# gray[gray>.1] = 1\n",
    "plt.imshow(gray, cmap='gray')\n",
    "print(model.predict_classes(gray.reshape(1,784)))\n",
    "print(model.predict(gray.reshape(1,784)))"
   ]
  },
  {
   "cell_type": "code",
   "execution_count": null,
   "metadata": {
    "slideshow": {
     "slide_type": "skip"
    }
   },
   "outputs": [],
   "source": [
    "#OLD WORK \n",
    "#This is for if we had to resize from 400x400\n",
    "\n",
    "\n",
    "#we need to read the image first, in gray scale\n",
    "gray = cv2.imread('mnist_test_imgs/100x100/6_slim.png', 0) # your original image of 6\n",
    "# gray = 255-gray\n",
    "# gray = gray/255.\n",
    "\n",
    "\n",
    "gray = gray/255.\n",
    "gray[gray<.9]=0\n",
    "gray[gray>.9]=1\n",
    "    \n",
    "print(\"before resizing and padding the shape is {}\".format(gray.shape))\n",
    "gray = cv2.resize(gray, None, fx=.2, fy=.2, interpolation = cv2.INTER_LINEAR_EXACT)\n",
    "plt.imshow(gray, cmap='gray')\n",
    "\n",
    "print(np.max(gray), np.min(gray))\n",
    "\n",
    "while np.sum(gray[0]) == 0:\n",
    "#     print('The top border is black')\n",
    "    gray = gray[1:]\n",
    "\n",
    "while np.sum(gray[:,0]) == 0:\n",
    "#     print('The left border is black')\n",
    "    gray = np.delete(gray,0,1)\n",
    "\n",
    "while np.sum(gray[-1]) == 0:\n",
    "#     print('The bottom border is black')\n",
    "    gray = gray[:-1]\n",
    "\n",
    "while np.sum(gray[:,-1]) == 0:\n",
    "#     print('The bottom border is black')\n",
    "    gray = np.delete(gray,-1,1)\n",
    "    \n",
    "gray = np.lib.pad(gray,(4,4),'constant', constant_values=(0,0))\n",
    "print(\"after resizing and padding the shape is {}\".format(gray.shape))\n",
    "\n",
    "plt.imshow(gray,cmap='gray')\n",
    "# gray = cv2.blur(gray, (5,5))\n",
    "gray = cv2.GaussianBlur(gray,(9,9),0)\n",
    "plt.imshow(gray,cmap='gray')\n",
    "\n",
    "model.predict_classes(gray.reshape(1, 784))"
   ]
  },
  {
   "cell_type": "code",
   "execution_count": null,
   "metadata": {
    "scrolled": true,
    "slideshow": {
     "slide_type": "skip"
    }
   },
   "outputs": [],
   "source": [
    "\n",
    "kernel = np.ones((3,3),np.uint8)\n",
    "kernel2 = np.ones((1,1), np.uint8)\n",
    "dilatation = cv2.dilate(gray,kernel,iterations = 1)\n",
    "erosion = cv2.erode(dilatation, kernel, iterations=1)\n",
    "plt.imshow(erosion, cmap='gray')\n"
   ]
  },
  {
   "cell_type": "code",
   "execution_count": null,
   "metadata": {
    "slideshow": {
     "slide_type": "skip"
    }
   },
   "outputs": [],
   "source": [
    "\n",
    "\n",
    "# while np.sum(gray[0]) == 0:\n",
    "# #     print('The top border is black')\n",
    "#     gray = gray[1:]\n",
    "\n",
    "# while np.sum(gray[:,0]) == 0:\n",
    "# #     print('The left border is black')\n",
    "#     gray = np.delete(gray,0,1)\n",
    "\n",
    "# while np.sum(gray[-1]) == 0:\n",
    "# #     print('The bottom border is black')\n",
    "#     gray = gray[:-1]\n",
    "\n",
    "# while np.sum(gray[:,-1]) == 0:\n",
    "# #     print('The bottom border is black')\n",
    "#     gray = np.delete(gray,-1,1)\n",
    "\n",
    "# plt.imshow(gray)\n",
    "\n",
    "# gray = cv2.copyMakeBorder(gray,7,8,8,7,cv2.BORDER_REPLICATE)\n",
    "\n",
    "# print(gray.shape)\n",
    "\n",
    "# model.predict_classes(gray.reshape(-1, 784))\n",
    "# model.predict(X_test[0].reshape(-1, 784))\n",
    "# model.predict_classes(X_test[0].reshape(-1, 784))\n",
    "\n",
    "print(gray.shape)"
   ]
  },
  {
   "cell_type": "code",
   "execution_count": null,
   "metadata": {
    "slideshow": {
     "slide_type": "skip"
    }
   },
   "outputs": [],
   "source": [
    "\n",
    "new1 = cv2.imread('mnist_test_imgs/400x400/400x400x5xfat.png', 0)\n",
    "new1 = cv2.resize(new1,None,fx=.1, fy=.1, interpolation=cv2.INTER_LINEAR)\n",
    "new1[new1 < .05] = 0\n",
    "\n",
    "new1 = cv2.resize(new1,None,fx=.5, fy=.5, interpolation=cv2.INTER_LINEAR)\n",
    "new1[new1>.80] = 1\n",
    "plt.imshow(new1, cmap='gray')\n",
    "print(new1.shape)\n",
    "new_im = cv2.copyMakeBorder(new1, 4, 4, 4, 4, cv2.BORDER_CONSTANT,\n",
    "    value=0)\n",
    "\n",
    "model.predict_classes(new_im.reshape(1, 784))"
   ]
  },
  {
   "cell_type": "code",
   "execution_count": null,
   "metadata": {
    "slideshow": {
     "slide_type": "skip"
    }
   },
   "outputs": [],
   "source": [
    "\n",
    "kernel = np.ones((1,1),np.uint8)\n",
    "dilatation = cv2.dilate(new_im,kernel,iterations = 1)\n",
    "\n",
    "plt.imshow(dilatation)"
   ]
  },
  {
   "cell_type": "code",
   "execution_count": null,
   "metadata": {
    "slideshow": {
     "slide_type": "skip"
    }
   },
   "outputs": [],
   "source": [
    "\n",
    "\n",
    "im_fns = []\n",
    "reshaped_imgs = []\n",
    "\n",
    "img_path = os.path.realpath(os.getcwd()) + \"\\\\mnist_test_imgs\\\\400x400\\\\\"\n",
    "print('Parsing Images In {}'.format(img_path))\n",
    "\n",
    "for fn in os.listdir(img_path):\n",
    "    print(fn)\n",
    "    if os.path.isdir('mnist_test_imgs\\\\' + fn):\n",
    "        print('This is a DIR: {}'.format(fn))\n",
    "        continue\n",
    "    else:\n",
    "        im = cv2.imread(img_path + fn, 0)\n",
    "        im_resized = cv2.resize(src=im, dsize=(28,28), interpolation=cv2.INTER_LINEAR)\n",
    "        im_reshaped = im_resized.reshape(1, 784).astype('float32')/255.\n",
    "        im_fns.append(fn)\n",
    "        reshaped_imgs.append(im_reshaped)\n",
    "\n",
    "        \n",
    "        \n",
    "print('Let\\'s display the first 9 images drawn...')\n",
    "fig = plt.figure()\n",
    "for i in range(6):\n",
    "    ax = plt.subplot(3,3,i+1)\n",
    "    plt.imshow(reshaped_imgs[i].reshape(28,28))\n",
    "    plt.title(\"Test Image {}\".format(im_fns[i]))\n",
    "    fig.subplots_adjust(hspace=2)\n",
    "    ax.set_xticklabels([])\n",
    "    ax.set_yticklabels([])\n",
    "plt.savefig('mnist_first_9_samples')\n",
    "    \n",
    "    "
   ]
  },
  {
   "cell_type": "code",
   "execution_count": null,
   "metadata": {
    "slideshow": {
     "slide_type": "skip"
    }
   },
   "outputs": [],
   "source": [
    "from matplotlib import pyplot as plt\n",
    "%matplotlib inline\n",
    "\n",
    "fig = plt.figure()\n",
    "for i in range(9):\n",
    "    ax = plt.subplot(3,3,i+1)\n",
    "    plt.imshow(x_train[i].reshape(28,28), cmap='gray', interpolation='none')\n",
    "    plt.title(\"Class {}\".format(y_train[i]))\n",
    "    fig.subplots_adjust(hspace=.8)\n",
    "    ax.set_xticklabels([])\n",
    "    ax.set_yticklabels([])\n",
    "\n",
    "plt.savefig('example_mnist_imgs.png')\n",
    "im1 = np.array(x_train[:1]).reshape(28, 28)\n",
    "# cv2.imwrite('mnist_sample1.jpg', im1)\n",
    "plt.imshow(im1)"
   ]
  }
 ],
 "metadata": {
  "celltoolbar": "Slideshow",
  "kernelspec": {
   "display_name": "Python [conda env:py36]",
   "language": "python",
   "name": "conda-env-py36-py"
  },
  "language_info": {
   "codemirror_mode": {
    "name": "ipython",
    "version": 3
   },
   "file_extension": ".py",
   "mimetype": "text/x-python",
   "name": "python",
   "nbconvert_exporter": "python",
   "pygments_lexer": "ipython3",
   "version": "3.6.5"
  },
  "livereveal": {
   "height": 1024,
   "scroll": true,
   "theme": "sky",
   "width": 2048
  }
 },
 "nbformat": 4,
 "nbformat_minor": 2
}
