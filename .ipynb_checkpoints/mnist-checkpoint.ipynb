{
 "cells": [
  {
   "cell_type": "markdown",
   "metadata": {
    "slideshow": {
     "slide_type": "notes"
    }
   },
   "source": [
    "Make sure you do two things:\n",
    "    Confirm these settings:\n",
    "        \"livereveal\": {\n",
    "        \"height\": 1024,\n",
    "        \"scroll\": true,\n",
    "        \"theme\": \"sky\",\n",
    "        \"width\": 2048\n",
    "      }\n",
    "      \n",
    "      Also ensure that zoom is at 80%"
   ]
  },
  {
   "cell_type": "markdown",
   "metadata": {
    "slideshow": {
     "slide_type": "slide"
    }
   },
   "source": [
    "<h1 align='center'>Welcome to the Cerebro lunch and learn!</h1>\n",
    "\n",
    "\n",
    "<center><img src=\"src/cerebro_logo.png\" alt=\"hi\" class=\"inline\" style=\"width:300;height:200px\" vspace=\"10\"/></center>\n",
    "\n",
    "<b>Today</b> we will be going through the classic 'MNIST' tutorial which is a great introduction to the type of value that machine learning can provide in data science and predictive analytics\n",
    "\n",
    "Agenda:\n",
    " - Train a Neural Network to predict Digits from the curated MNIST dataset\n",
    " - See if we can use this model to predict our own handwriting! "
   ]
  },
  {
   "cell_type": "markdown",
   "metadata": {
    "slideshow": {
     "slide_type": "slide"
    }
   },
   "source": [
    "<h2 align='center'>While we pass around the Note</h2> \n",
    "\n",
    "<center><img src=\"src/note.png\" alt=\"hi\" class=\"inline\" vspace=\"20\"/></center>\n",
    "\n",
    "<h2 align='center'>let's talk shop</h2>\n",
    "\n",
    "<h4 align='left-indent'>What is machine learning?</h4>\n",
    "\n",
    "\n",
    "- <b>Machine Learning</b> is ... a `buzzword` that refers to the practice of taking data, and applying algorithms to determine and predict behaviors, patterns, trends, using computers. \n",
    "- <b>Machine Learning</b> “... is the science of getting computers to act without being explicitly programmed.” – [Stanford, Coursera, Andrew Ng -- Former Head of Google Brain](https://www.coursera.org/learn/machine-learning)\n"
   ]
  },
  {
   "cell_type": "markdown",
   "metadata": {
    "slideshow": {
     "slide_type": "slide"
    }
   },
   "source": [
    "\n",
    "<h2>Quick History</h2>\n",
    "\n",
    "\n",
    "Technically, ML has been around since the 1950, but only recently has it started to really take the world by storm. \n",
    "\n",
    "[Why?](https://www.forbes.com/sites/bernardmarr/2016/02/19/a-short-history-of-machine-learning-every-manager-should-read/#3233d50a15e7)\n",
    "- 1950 <b>Alan Turing</b> creates turing test (can a machine fool a human?). \n",
    "\n",
    "- 1952 <b>Arthur Samuel (IBM)</b> designed a model that could learn how to play checkers, becoming more efficient over time.\n",
    "\n",
    "- 1997 <b>IBM Deep Blue</b> beats World Chess Champion using ML.\n",
    "\n",
    "- 2006 <b>Geoff Hinton</b>, considered the 'Godfather of Deep Learning', basically created and proved the concept of artificial neural nets, back propagation, deep belief networks, etc...\n",
    "\n",
    "- 2011 <b>Watson vs. Jeopardy</b>  Watson beats Jeopardy winners, Ken Jennings and Brad Rutter\n",
    "\n",
    "- 2015 <b>GoogLeNet</b> is a 22 layer CNN and was the winner of ILSVRC 2014 with a top 5 error rate of 6.7%\n",
    "\n",
    "\n",
    "\n",
    "<center><img src=\"src/deep_blue.jpg\" alt=\"hi\" class=\"inline\" vspace=\"10\"/></center>\n",
    "\n"
   ]
  },
  {
   "cell_type": "markdown",
   "metadata": {
    "slideshow": {
     "slide_type": "slide"
    }
   },
   "source": [
    "<h2 align='center'>So What are we Doing? How does this relate to us?</h2> \n",
    "\n",
    "<b>Current Applications</b>\n",
    "- Self Driving Cars (Tesla)\n",
    "- Image Detection and Tracking (Computer Vision)\n",
    "- AI - IBM Watson \n",
    "- Data Predictions (predicting when wells run dry, potential networking issues- optimal path, etc...)\n",
    "- Model real world data and develop insights (commercial/retail, trends, stocks)\n",
    "\n",
    "<b>What's the point?</b>\n",
    "\n",
    "- Stand on the shoulders of giants. \n",
    "- Having PHD/M.S. degree does not equate to ML Expertise\n",
    "- Anyone with desire and commitment can learn what methods and techniques can be applied to tackle difficult problems. \n",
    "\n",
    "\n"
   ]
  },
  {
   "cell_type": "markdown",
   "metadata": {
    "slideshow": {
     "slide_type": "slide"
    }
   },
   "source": [
    "<h2 align = \"center\">Back to our agenda</h2>\n",
    "\n",
    "- Train a Nueral Network to predict Digits from the curated MNIST dataset\n",
    "- See if we can use this model to predict our own handwriting! \n",
    "\n",
    "\n",
    "<h3>What is the `hello world` of Tensor Flow? (Keras, SKLearn, etc...)</h3>\n",
    "\n",
    "* It is commonly referred to as the MNIST tutorial (784, 28x8)\n",
    "\n",
    "* The tutorial will train a model using a handwritten dataset (labeled, supervised learning) that can beat a human at recognizing digits in images.  \n",
    "\n",
    "\n",
    "<b>Note: [The average human error rate is around 2-2.5%](https://papers.nips.cc/paper/656-efficient-pattern-recognition-using-a-new-transformation-distance.pdf)</b>\n",
    "\n",
    "\n",
    "<h3>What is MNIST?</h3>\n",
    "\n",
    "A curated handwritten dataset used for this tutorial\n",
    "- MNIST Dataset (Handwritten dataset of 60k/10k labeled train/test images. \n",
    "- What is the current state of the art? \n",
    "    - [.23% Error rate!! (ICML 2013)](http://rodrigob.github.io/are_we_there_yet/build/classification_datasets_results.html)\n",
    "\n"
   ]
  },
  {
   "cell_type": "markdown",
   "metadata": {
    "slideshow": {
     "slide_type": "slide"
    }
   },
   "source": [
    "<center><h1>Example Images from MNIST!</h1></center>\n",
    "\n",
    "<center><img src=\"src/example_mnist_imgs.png\" alt=\"hi\" class=\"inline\" vspace=\"10\"/></center>\n"
   ]
  },
  {
   "cell_type": "code",
   "execution_count": 184,
   "metadata": {
    "slideshow": {
     "slide_type": "slide"
    }
   },
   "outputs": [],
   "source": [
    "import time\n",
    "import cv2\n",
    "import numpy as np\n",
    "import os\n",
    "\n",
    "from keras.datasets import mnist\n",
    "from keras.models import Sequential\n",
    "from keras.layers import Dense, Activation, Flatten, Dropout\n",
    "from keras.utils import np_utils\n",
    "from matplotlib import pyplot as plt\n",
    "%matplotlib inline\n",
    "\n",
    "def mlp_model(input_shape, num_classes=10):\n",
    "    \"\"\"\n",
    "    Multilayer perceptron model. Not a very deep network.\n",
    "    :param input_dim:\n",
    "    :param num_classes:\n",
    "    :return:\n",
    "    \"\"\"\n",
    "    # An \"activation\" is just a non-linear function applied to the output\n",
    "    # of the layer above. Here, with a \"rectified linear unit\",\n",
    "    # we clamp all values below 0 to 0.\n",
    "    \n",
    "    # This special \"softmax\" activation among other things,\n",
    "    # ensures the output is a valid probaility distribution, that is\n",
    "    # that its values are all non-negative and sum to 1.\n",
    "    \n",
    "    # Credits: https://github.com/wxs/keras-mnist-tutorial/blob/master/MNIST%20in%20Keras.ipynb\n",
    "    # Xavier Snelgrove - cofounder of WhirlScape\n",
    "    model = Sequential()\n",
    "    model.add(Dense(512, input_shape=input_shape, kernel_initializer='normal', activation='relu'))\n",
    "    model.add(Dropout(0.2)) # Dropout helps protect the model from memorizing or \"overfitting\" the training data\n",
    "    model.add(Dense(512, input_shape=input_shape, kernel_initializer='normal', activation='relu'))\n",
    "    model.add(Dropout(0.2)) \n",
    "    model.add(Dense(num_classes, kernel_initializer='normal', activation='softmax'))\n",
    "    model.compile(loss='categorical_crossentropy', optimizer='adam', metrics=['accuracy'])\n",
    "    return model\n"
   ]
  },
  {
   "cell_type": "code",
   "execution_count": 185,
   "metadata": {
    "slideshow": {
     "slide_type": "slide"
    }
   },
   "outputs": [
    {
     "name": "stdout",
     "output_type": "stream",
     "text": [
      "--------------------reading data--------------------\n",
      "Training dataset shape: (60000, 28, 28)\n",
      "Testing dataset shape: (10000, 28, 28)\n",
      "--------------------creating model and training data--------------------\n",
      "<keras.models.Sequential object at 0x0000000006422048>\n",
      "timer started...\n",
      "Epoch 1/10\n",
      "60000/60000 [==============================] - 22s 362us/step - loss: 0.2158 - acc: 0.9350\n",
      "Epoch 2/10\n",
      "60000/60000 [==============================] - 21s 354us/step - loss: 0.1072 - acc: 0.9671\n",
      "Epoch 3/10\n",
      "60000/60000 [==============================] - 21s 350us/step - loss: 0.0787 - acc: 0.9754\n",
      "Epoch 4/10\n",
      "60000/60000 [==============================] - 21s 348us/step - loss: 0.0663 - acc: 0.9797\n",
      "Epoch 5/10\n",
      "60000/60000 [==============================] - 21s 349us/step - loss: 0.0585 - acc: 0.9816\n",
      "Epoch 6/10\n",
      "60000/60000 [==============================] - 22s 367us/step - loss: 0.0496 - acc: 0.9841\n",
      "Epoch 7/10\n",
      "60000/60000 [==============================] - 21s 358us/step - loss: 0.0444 - acc: 0.9866\n",
      "Epoch 8/10\n",
      "60000/60000 [==============================] - 21s 356us/step - loss: 0.0436 - acc: 0.9871\n",
      "Epoch 9/10\n",
      "60000/60000 [==============================] - 21s 351us/step - loss: 0.0372 - acc: 0.9883\n",
      "Epoch 10/10\n",
      "60000/60000 [==============================] - 20s 336us/step - loss: 0.0397 - acc: 0.9881\n"
     ]
    }
   ],
   "source": [
    "\n",
    "\n",
    "print('-'*20+'reading data'+'-'*20)\n",
    "(x_train, y_train), (x_test, y_test) = mnist.load_data()\n",
    "# fix random seed for reproducibility\n",
    "seed = 7\n",
    "np.random.seed(seed)\n",
    "\n",
    "# flatten 28*28 images to a 784 vector for each image, and scale from 0 - 1\n",
    "num_pixels = x_train.shape[1] * x_train.shape[2]\n",
    "X_train = x_train.reshape(x_train.shape[0], num_pixels).astype('float32')/255.\n",
    "X_test = x_test.reshape(x_test.shape[0], num_pixels).astype('float32')/255.\n",
    "print('Training dataset shape: {}'.format(x_train.shape))\n",
    "print('Testing dataset shape: {}'.format(x_test.shape))\n",
    "Y_train = np_utils.to_categorical(y_train, 10)\n",
    "Y_test = np_utils.to_categorical(y_test, 10)\n",
    "\n",
    "print('-'*20+'creating model and training data'+'-'*20)\n",
    "model = mlp_model((784, ), num_classes=10)\n",
    "print(model)\n",
    "print('timer started...')\n",
    "start = time.time()\n",
    "model.fit(X_train, Y_train, epochs=10, batch_size=32)\n",
    "end = time.time()\n"
   ]
  },
  {
   "cell_type": "markdown",
   "metadata": {
    "slideshow": {
     "slide_type": "slide"
    }
   },
   "source": [
    "<center><h1>What was our score??</h1></center>\n",
    "\n",
    "<h3 align='left'>What are our metrics?</h3>\n",
    "\n",
    "* Validation Accuracy (as the model runs, take a portion of our training data and test to see what our accuracy is).\n",
    "\n",
    "* Loss: output of our loss function (categorical crossentropy formula)\n",
    "\n",
    "<h3 align='left'>First Let's define `score`</h3>\n",
    "  \n",
    "- A score is the overall accuracy returned by the model when ran against our <b>test set</b> (10k images). \n",
    "- <b>Note:</b> our model has never seen these images before, it was only trained on the <b>training set</b> (60k images). "
   ]
  },
  {
   "cell_type": "code",
   "execution_count": 186,
   "metadata": {
    "slideshow": {
     "slide_type": "slide"
    }
   },
   "outputs": [
    {
     "name": "stdout",
     "output_type": "stream",
     "text": [
      "10000/10000 [==============================] - 1s 58us/step\n",
      "Our Test Accuracy was 98.3 and our Overall Loss was 7.394167439077255\n",
      "it took 3.533876665433248 minutes to train the model\n"
     ]
    }
   ],
   "source": [
    "score = model.evaluate(X_test, Y_test)\n",
    "print(\"Our Test Accuracy was {} and our Overall Loss was {}\".format(score[1]*100, score[0]*100))\n",
    "print('it took {} minutes to train the model'.format((end-start)/60.))"
   ]
  },
  {
   "cell_type": "markdown",
   "metadata": {
    "slideshow": {
     "slide_type": "slide"
    }
   },
   "source": [
    "<center><h1> Results </h1></center>\n",
    "\n",
    "Though our results may seem pretty great for the simplicity of the model -- it means nothing if it doesn't accomplish the predefined goal set forward... \n",
    "\n",
    "\n",
    "<h3 align='left'>Takeaways</h3>\n",
    "\n",
    "* Our model was not very deep (6 layers total, 4 hidden, 1 input, 1 output)\n",
    "\n",
    "* We only trained for 10 epochs (number of complete training iterations)\n",
    "\n",
    "* Our accuracy was good! But think what a 2% error rate would mean for self driving cars.."
   ]
  },
  {
   "cell_type": "markdown",
   "metadata": {
    "slideshow": {
     "slide_type": "slide"
    }
   },
   "source": [
    "<center><h1> Now let's test our results on our own images! </h1></center>\n",
    "\n",
    "\n",
    "<center><img src=\"src/standby.jpg\" alt=\"hi\" class=\"inline\" vspace=\"10\"/></center>\n"
   ]
  },
  {
   "cell_type": "markdown",
   "metadata": {
    "slideshow": {
     "slide_type": "skip"
    }
   },
   "source": [
    "<h1>This is where the preprocessing for original handwritten digits happens</h1>"
   ]
  },
  {
   "cell_type": "code",
   "execution_count": 3,
   "metadata": {
    "slideshow": {
     "slide_type": "slide"
    }
   },
   "outputs": [
    {
     "name": "stdout",
     "output_type": "stream",
     "text": [
      "Parsing Images In C:\\Users\\jaehan\\PycharmProjects\\mnist\\mnist_test_imgs\\280x280\\\n",
      "0_fat.png\n"
     ]
    },
    {
     "ename": "NameError",
     "evalue": "name 'cv2' is not defined",
     "output_type": "error",
     "traceback": [
      "\u001b[1;31m---------------------------------------------------------------------------\u001b[0m",
      "\u001b[1;31mNameError\u001b[0m                                 Traceback (most recent call last)",
      "\u001b[1;32m<ipython-input-3-e5edd79ed063>\u001b[0m in \u001b[0;36m<module>\u001b[1;34m()\u001b[0m\n\u001b[0;32m     13\u001b[0m         \u001b[1;32mcontinue\u001b[0m\u001b[1;33m\u001b[0m\u001b[0m\n\u001b[0;32m     14\u001b[0m     \u001b[1;32melse\u001b[0m\u001b[1;33m:\u001b[0m\u001b[1;33m\u001b[0m\u001b[0m\n\u001b[1;32m---> 15\u001b[1;33m         \u001b[0mim\u001b[0m \u001b[1;33m=\u001b[0m \u001b[0mcv2\u001b[0m\u001b[1;33m.\u001b[0m\u001b[0mimread\u001b[0m\u001b[1;33m(\u001b[0m\u001b[0mimg_path\u001b[0m \u001b[1;33m+\u001b[0m \u001b[0mfn\u001b[0m\u001b[1;33m,\u001b[0m \u001b[1;36m0\u001b[0m\u001b[1;33m)\u001b[0m\u001b[1;33m\u001b[0m\u001b[0m\n\u001b[0m\u001b[0;32m     16\u001b[0m         \u001b[0mim_resized\u001b[0m \u001b[1;33m=\u001b[0m \u001b[0mcv2\u001b[0m\u001b[1;33m.\u001b[0m\u001b[0mresize\u001b[0m\u001b[1;33m(\u001b[0m\u001b[0msrc\u001b[0m\u001b[1;33m=\u001b[0m\u001b[0mim\u001b[0m\u001b[1;33m,\u001b[0m \u001b[0mdsize\u001b[0m\u001b[1;33m=\u001b[0m\u001b[1;33m(\u001b[0m\u001b[1;36m28\u001b[0m\u001b[1;33m,\u001b[0m\u001b[1;36m28\u001b[0m\u001b[1;33m)\u001b[0m\u001b[1;33m,\u001b[0m \u001b[0minterpolation\u001b[0m\u001b[1;33m=\u001b[0m\u001b[0mcv2\u001b[0m\u001b[1;33m.\u001b[0m\u001b[0mINTER_LINEAR\u001b[0m\u001b[1;33m)\u001b[0m\u001b[1;33m\u001b[0m\u001b[0m\n\u001b[0;32m     17\u001b[0m         \u001b[0mim_reshaped\u001b[0m \u001b[1;33m=\u001b[0m \u001b[0mim_resized\u001b[0m\u001b[1;33m.\u001b[0m\u001b[0mreshape\u001b[0m\u001b[1;33m(\u001b[0m\u001b[1;36m1\u001b[0m\u001b[1;33m,\u001b[0m \u001b[1;36m784\u001b[0m\u001b[1;33m)\u001b[0m\u001b[1;33m.\u001b[0m\u001b[0mastype\u001b[0m\u001b[1;33m(\u001b[0m\u001b[1;34m'float32'\u001b[0m\u001b[1;33m)\u001b[0m\u001b[1;33m/\u001b[0m\u001b[1;36m255.\u001b[0m\u001b[1;33m\u001b[0m\u001b[0m\n",
      "\u001b[1;31mNameError\u001b[0m: name 'cv2' is not defined"
     ]
    }
   ],
   "source": [
    "import os\n",
    "\n",
    "im_fns = []\n",
    "reshaped_imgs = []\n",
    "\n",
    "img_path = os.path.realpath(os.getcwd()) + \"\\\\mnist_test_imgs\\\\280x280\\\\\"\n",
    "print('Parsing Images In {}'.format(img_path))\n",
    "\n",
    "for fn in os.listdir(img_path):\n",
    "    print(fn)\n",
    "    if os.path.isdir('mnist_test_imgs\\\\' + fn):\n",
    "        print('This is a DIR: {}'.format(fn))\n",
    "        continue\n",
    "    else:\n",
    "        im = cv2.imread(img_path + fn, 0)\n",
    "        im_resized = cv2.resize(src=im, dsize=(28,28), interpolation=cv2.INTER_LINEAR)\n",
    "        im_reshaped = im_resized.reshape(1, 784).astype('float32')/255.\n",
    "        im_fns.append(fn)\n",
    "        reshaped_imgs.append(im_reshaped)\n",
    "\n",
    "        \n",
    "        \n",
    "print('Let\\'s display the first 9 images drawn...')\n",
    "fig = plt.figure()\n",
    "for i in range(6):\n",
    "    ax = plt.subplot(3,3,i+1)\n",
    "    plt.imshow(reshaped_imgs[i].reshape(28,28))\n",
    "    plt.title(\"Test Image {}\".format(im_fns[i]))\n",
    "    fig.subplots_adjust(hspace=2)\n",
    "    ax.set_xticklabels([])\n",
    "    ax.set_yticklabels([])\n",
    "plt.savefig('mnist_first_9_samples')\n",
    "    "
   ]
  },
  {
   "cell_type": "code",
   "execution_count": 189,
   "metadata": {
    "slideshow": {
     "slide_type": "skip"
    }
   },
   "outputs": [
    {
     "ename": "TypeError",
     "evalue": "Image data cannot be converted to float",
     "output_type": "error",
     "traceback": [
      "\u001b[1;31m---------------------------------------------------------------------------\u001b[0m",
      "\u001b[1;31mTypeError\u001b[0m                                 Traceback (most recent call last)",
      "\u001b[1;32m<ipython-input-189-8b1c5a2bb938>\u001b[0m in \u001b[0;36m<module>\u001b[1;34m()\u001b[0m\n\u001b[0;32m     40\u001b[0m \u001b[1;31m# gray = scale_400('mnist_test_imgs/280x280/6_fat.png', show_img=True)\u001b[0m\u001b[1;33m\u001b[0m\u001b[1;33m\u001b[0m\u001b[0m\n\u001b[0;32m     41\u001b[0m \u001b[0mgray\u001b[0m \u001b[1;33m=\u001b[0m \u001b[0mcv2\u001b[0m\u001b[1;33m.\u001b[0m\u001b[0mimread\u001b[0m\u001b[1;33m(\u001b[0m\u001b[1;34m'mnist_test_imgs/28x28/svg_3.png'\u001b[0m\u001b[1;33m,\u001b[0m \u001b[1;36m0\u001b[0m\u001b[1;33m)\u001b[0m\u001b[1;33m\u001b[0m\u001b[0m\n\u001b[1;32m---> 42\u001b[1;33m \u001b[0mplt\u001b[0m\u001b[1;33m.\u001b[0m\u001b[0mimshow\u001b[0m\u001b[1;33m(\u001b[0m\u001b[0mgray\u001b[0m\u001b[1;33m,\u001b[0m \u001b[0mcmap\u001b[0m\u001b[1;33m=\u001b[0m\u001b[1;34m'gray'\u001b[0m\u001b[1;33m)\u001b[0m\u001b[1;33m\u001b[0m\u001b[0m\n\u001b[0m\u001b[0;32m     43\u001b[0m \u001b[1;33m\u001b[0m\u001b[0m\n\u001b[0;32m     44\u001b[0m \u001b[1;31m# gray = 255. - gray\u001b[0m\u001b[1;33m\u001b[0m\u001b[1;33m\u001b[0m\u001b[0m\n",
      "\u001b[1;32m~\\AppData\\Local\\Continuum\\anaconda3\\envs\\py36\\lib\\site-packages\\matplotlib\\pyplot.py\u001b[0m in \u001b[0;36mimshow\u001b[1;34m(X, cmap, norm, aspect, interpolation, alpha, vmin, vmax, origin, extent, shape, filternorm, filterrad, imlim, resample, url, hold, data, **kwargs)\u001b[0m\n\u001b[0;32m   3203\u001b[0m                         \u001b[0mfilternorm\u001b[0m\u001b[1;33m=\u001b[0m\u001b[0mfilternorm\u001b[0m\u001b[1;33m,\u001b[0m \u001b[0mfilterrad\u001b[0m\u001b[1;33m=\u001b[0m\u001b[0mfilterrad\u001b[0m\u001b[1;33m,\u001b[0m\u001b[1;33m\u001b[0m\u001b[0m\n\u001b[0;32m   3204\u001b[0m                         \u001b[0mimlim\u001b[0m\u001b[1;33m=\u001b[0m\u001b[0mimlim\u001b[0m\u001b[1;33m,\u001b[0m \u001b[0mresample\u001b[0m\u001b[1;33m=\u001b[0m\u001b[0mresample\u001b[0m\u001b[1;33m,\u001b[0m \u001b[0murl\u001b[0m\u001b[1;33m=\u001b[0m\u001b[0murl\u001b[0m\u001b[1;33m,\u001b[0m \u001b[0mdata\u001b[0m\u001b[1;33m=\u001b[0m\u001b[0mdata\u001b[0m\u001b[1;33m,\u001b[0m\u001b[1;33m\u001b[0m\u001b[0m\n\u001b[1;32m-> 3205\u001b[1;33m                         **kwargs)\n\u001b[0m\u001b[0;32m   3206\u001b[0m     \u001b[1;32mfinally\u001b[0m\u001b[1;33m:\u001b[0m\u001b[1;33m\u001b[0m\u001b[0m\n\u001b[0;32m   3207\u001b[0m         \u001b[0max\u001b[0m\u001b[1;33m.\u001b[0m\u001b[0m_hold\u001b[0m \u001b[1;33m=\u001b[0m \u001b[0mwashold\u001b[0m\u001b[1;33m\u001b[0m\u001b[0m\n",
      "\u001b[1;32m~\\AppData\\Local\\Continuum\\anaconda3\\envs\\py36\\lib\\site-packages\\matplotlib\\__init__.py\u001b[0m in \u001b[0;36minner\u001b[1;34m(ax, *args, **kwargs)\u001b[0m\n\u001b[0;32m   1853\u001b[0m                         \u001b[1;34m\"the Matplotlib list!)\"\u001b[0m \u001b[1;33m%\u001b[0m \u001b[1;33m(\u001b[0m\u001b[0mlabel_namer\u001b[0m\u001b[1;33m,\u001b[0m \u001b[0mfunc\u001b[0m\u001b[1;33m.\u001b[0m\u001b[0m__name__\u001b[0m\u001b[1;33m)\u001b[0m\u001b[1;33m,\u001b[0m\u001b[1;33m\u001b[0m\u001b[0m\n\u001b[0;32m   1854\u001b[0m                         RuntimeWarning, stacklevel=2)\n\u001b[1;32m-> 1855\u001b[1;33m             \u001b[1;32mreturn\u001b[0m \u001b[0mfunc\u001b[0m\u001b[1;33m(\u001b[0m\u001b[0max\u001b[0m\u001b[1;33m,\u001b[0m \u001b[1;33m*\u001b[0m\u001b[0margs\u001b[0m\u001b[1;33m,\u001b[0m \u001b[1;33m**\u001b[0m\u001b[0mkwargs\u001b[0m\u001b[1;33m)\u001b[0m\u001b[1;33m\u001b[0m\u001b[0m\n\u001b[0m\u001b[0;32m   1856\u001b[0m \u001b[1;33m\u001b[0m\u001b[0m\n\u001b[0;32m   1857\u001b[0m         inner.__doc__ = _add_data_doc(inner.__doc__,\n",
      "\u001b[1;32m~\\AppData\\Local\\Continuum\\anaconda3\\envs\\py36\\lib\\site-packages\\matplotlib\\axes\\_axes.py\u001b[0m in \u001b[0;36mimshow\u001b[1;34m(self, X, cmap, norm, aspect, interpolation, alpha, vmin, vmax, origin, extent, shape, filternorm, filterrad, imlim, resample, url, **kwargs)\u001b[0m\n\u001b[0;32m   5485\u001b[0m                               resample=resample, **kwargs)\n\u001b[0;32m   5486\u001b[0m \u001b[1;33m\u001b[0m\u001b[0m\n\u001b[1;32m-> 5487\u001b[1;33m         \u001b[0mim\u001b[0m\u001b[1;33m.\u001b[0m\u001b[0mset_data\u001b[0m\u001b[1;33m(\u001b[0m\u001b[0mX\u001b[0m\u001b[1;33m)\u001b[0m\u001b[1;33m\u001b[0m\u001b[0m\n\u001b[0m\u001b[0;32m   5488\u001b[0m         \u001b[0mim\u001b[0m\u001b[1;33m.\u001b[0m\u001b[0mset_alpha\u001b[0m\u001b[1;33m(\u001b[0m\u001b[0malpha\u001b[0m\u001b[1;33m)\u001b[0m\u001b[1;33m\u001b[0m\u001b[0m\n\u001b[0;32m   5489\u001b[0m         \u001b[1;32mif\u001b[0m \u001b[0mim\u001b[0m\u001b[1;33m.\u001b[0m\u001b[0mget_clip_path\u001b[0m\u001b[1;33m(\u001b[0m\u001b[1;33m)\u001b[0m \u001b[1;32mis\u001b[0m \u001b[1;32mNone\u001b[0m\u001b[1;33m:\u001b[0m\u001b[1;33m\u001b[0m\u001b[0m\n",
      "\u001b[1;32m~\\AppData\\Local\\Continuum\\anaconda3\\envs\\py36\\lib\\site-packages\\matplotlib\\image.py\u001b[0m in \u001b[0;36mset_data\u001b[1;34m(self, A)\u001b[0m\n\u001b[0;32m    647\u001b[0m         if (self._A.dtype != np.uint8 and\n\u001b[0;32m    648\u001b[0m                 not np.can_cast(self._A.dtype, float, \"same_kind\")):\n\u001b[1;32m--> 649\u001b[1;33m             \u001b[1;32mraise\u001b[0m \u001b[0mTypeError\u001b[0m\u001b[1;33m(\u001b[0m\u001b[1;34m\"Image data cannot be converted to float\"\u001b[0m\u001b[1;33m)\u001b[0m\u001b[1;33m\u001b[0m\u001b[0m\n\u001b[0m\u001b[0;32m    650\u001b[0m \u001b[1;33m\u001b[0m\u001b[0m\n\u001b[0;32m    651\u001b[0m         if not (self._A.ndim == 2\n",
      "\u001b[1;31mTypeError\u001b[0m: Image data cannot be converted to float"
     ]
    },
    {
     "data": {
      "image/png": "[encoded data removed]",
      "text/plain": [
       "<Figure size 432x288 with 1 Axes>"
      ]
     },
     "metadata": {},
     "output_type": "display_data"
    }
   ],
   "source": [
    "# fn represents filename i.e. mnist_test_imgs/280x280/1_fat.png\n",
    "# show_img is a bool that will show images if you want\n",
    "# blur will blur the image before returning it with a 3x3 kernel\n",
    "def scale_400(fn, show_img=True, blur=False):\n",
    "    \"\"\"This will scale 280x280 to 28x28 and convert the image to float ranging from 0 to 1\"\"\"\n",
    "    \n",
    "    gray = cv2.imread(fn, 0) # read image in gray\n",
    "    gray=gray/255.\n",
    "    # maintain aspect ratio and scale down 90% to 28x28 image shape\n",
    "    resized_gray = cv2.resize(gray, None, fx=.1, fy=.1, interpolation=cv2.INTER_NEAREST)\n",
    "    # this guy will display the image under this cell inline\n",
    "    if show_img:\n",
    "        plt.imshow(gray, cmap='gray') \n",
    "        plt.title(\"This is before resizing\")\n",
    "        plt.figure()\n",
    "        plt.imshow(resized_gray, cmap='gray') \n",
    "        plt.title(\"This is after resizing\")\n",
    "        plt.figure()\n",
    "        if blur:\n",
    "            blurred = cv2.blur(resized_gray, (3,3))\n",
    "            plt.imshow(blurred, cmap='gray') \n",
    "            plt.title(\"This is after blurring\")\n",
    "            plt.figure()\n",
    "            return blurred\n",
    "    print(\"The shape of our image after resizing is {}\".format(gray.shape))\n",
    "    return resized_gray\n",
    "\n",
    "# if you want to display the image it as easy as:\n",
    "# 1. Read image using im = cv2.imread(image_filename, 0) -> 0 forces the func to read the image as gray (bw)\n",
    "# 2. Pass object into plt.imshow(name_of_im, cmap='gray') -> cmap (color map) by default will not display in grayscale\n",
    "\n",
    "# if you want to predict what digit is in the image using the model make sure to run the model (2 cells) then do\n",
    "# model.predict_classes(im.reshape(1, 784)) --> we have to flatten the 28x28 image into 1x784\n",
    "# the model.predict_classes() function will return a list with one number displaying what was shown\n",
    "\n",
    "# to view the specific accuracies for each class you would need to do model.predict(im.reshape(1,784)) \n",
    "# keep in mind that this will contain a nested list of floats. The first value --> digit 0, second value --> digit 1, etc...\n",
    "\n",
    "# Usage Examples\n",
    "# gray = scale_400('mnist_test_imgs/280x280/6_fat.png', show_img=True)\n",
    "gray = cv2.imread('mnist_test_imgs/28x28/svg_3_1.png', 0)\n",
    "plt.imshow(gray, cmap='gray')\n",
    "\n",
    "# gray = 255. - gray\n",
    "# print(gray)\n",
    "# plt.imshow(gray, cmap='gray')\n",
    "\n",
    "# digit = model.predict_classes(gray.reshape(1, 784))\n",
    "# print('The value that was predicted is {}'.format(digit[0]))\n",
    "\n",
    "\n",
    "# gray = scale_400('mnist_test_imgs/280x280/6_fat_2.png', show_img=True, blur=True)\n",
    "# digit = model.predict_classes(gray.reshape(1, 784))\n",
    "# print('The value that was predicted is {}'.format(digit[0]))"
   ]
  },
  {
   "cell_type": "markdown",
   "metadata": {
    "slideshow": {
     "slide_type": "skip"
    }
   },
   "source": [
    "<h1>Everthing under here was me fooling around with different aspect ratios, resizing images and centering them... etc...</h1>"
   ]
  },
  {
   "cell_type": "code",
   "execution_count": 146,
   "metadata": {
    "slideshow": {
     "slide_type": "skip"
    }
   },
   "outputs": [
    {
     "name": "stdout",
     "output_type": "stream",
     "text": [
      "(28, 28)\n",
      "[3]\n",
      "[[5.4171309e-19 1.2552610e-11 1.1459589e-13 9.9893326e-01 6.6750374e-20\n",
      "  7.6790047e-06 1.5146981e-21 1.7511375e-07 4.3575749e-10 1.0590041e-03]]\n"
     ]
    },
    {
     "data": {
      "image/png": "[encoded data removed]",
      "text/plain": [
       "<Figure size 432x288 with 1 Axes>"
      ]
     },
     "metadata": {},
     "output_type": "display_data"
    }
   ],
   "source": [
    "gray = cv2.imread('mnist_test_imgs/400x400/2_.5_25.png', 0)\n",
    "# print('Before resizing the image our image was {} x {}'.format(*gray.shape))\n",
    "gray = gray/255.\n",
    "# gray[gray>.9] = 1\n",
    "# gray[gray<=.9]=0\n",
    "\n",
    "gray = cv2.resize(gray, None, fx=.1, fy=.1, interpolation=cv2.INTER_NEAREST)\n",
    "# convert to 0-1 range\n",
    "\n",
    "\n",
    "while np.sum(gray[0]) == 0:\n",
    "#     print('The top border is black')\n",
    "    if gray.shape[0] == 28:\n",
    "        break\n",
    "    gray = gray[1:]\n",
    "while np.sum(gray[:,0]) == 0:\n",
    "    if gray.shape[1] == 28:\n",
    "        break\n",
    "#     print('The left border is black')\n",
    "    gray = np.delete(gray,0,1)\n",
    "while np.sum(gray[-1]) == 0:\n",
    "    if gray.shape[0] == 28:\n",
    "        break\n",
    "#     print('The bottom border is black')\n",
    "    gray = gray[:-1]\n",
    "while np.sum(gray[:,-1]) == 0:\n",
    "    if gray.shape[1] == 28:\n",
    "        break\n",
    "#     print('The right border is black')\n",
    "    gray = np.delete(gray,-1,1)\n",
    "\n",
    "print(gray.shape)\n",
    "if gray.shape[0] > 28 or gray.shape[1] > 28:\n",
    "    print('uhoh')\n",
    "    gray = cv2.resize(gray, (28,28), interpolation=cv2.INTER_NEAREST)\n",
    "# mnist_size = (28,28)\n",
    "# curr_size = gray.shape\n",
    "# w_diff = mnist_size[1] - curr_size[1]\n",
    "# h_diff = mnist_size[0] - curr_size[0]\n",
    "# top, bottom = h_diff//2, h_diff-(h_diff//2)\n",
    "# left, right = w_diff//2, w_diff-(w_diff//2)\n",
    "# print(top, bottom, left, right)\n",
    "# gray = cv2.copyMakeBorder(gray, top, bottom, left, right, cv2.BORDER_CONSTANT,\n",
    "#     value=0)\n",
    "\n",
    "# gray = cv2.GaussianBlur(gray, (3,3), 0)\n",
    "# gray[gray>.1] = 1\n",
    "plt.imshow(gray, cmap='gray')\n",
    "print(model.predict_classes(gray.reshape(1,784)))\n",
    "print(model.predict(gray.reshape(1,784)))"
   ]
  },
  {
   "cell_type": "code",
   "execution_count": 48,
   "metadata": {
    "slideshow": {
     "slide_type": "skip"
    }
   },
   "outputs": [
    {
     "name": "stdout",
     "output_type": "stream",
     "text": [
      "before resizing and padding the shape is (100, 100)\n",
      "1.0 0.0\n",
      "after resizing and padding the shape is (18, 16)\n"
     ]
    },
    {
     "ename": "ValueError",
     "evalue": "cannot reshape array of size 288 into shape (1,784)",
     "output_type": "error",
     "traceback": [
      "\u001b[1;31m---------------------------------------------------------------------------\u001b[0m",
      "\u001b[1;31mValueError\u001b[0m                                Traceback (most recent call last)",
      "\u001b[1;32m<ipython-input-48-ef5bde60680b>\u001b[0m in \u001b[0;36m<module>\u001b[1;34m()\u001b[0m\n\u001b[0;32m     40\u001b[0m \u001b[0mplt\u001b[0m\u001b[1;33m.\u001b[0m\u001b[0mimshow\u001b[0m\u001b[1;33m(\u001b[0m\u001b[0mgray\u001b[0m\u001b[1;33m,\u001b[0m\u001b[0mcmap\u001b[0m\u001b[1;33m=\u001b[0m\u001b[1;34m'gray'\u001b[0m\u001b[1;33m)\u001b[0m\u001b[1;33m\u001b[0m\u001b[0m\n\u001b[0;32m     41\u001b[0m \u001b[1;33m\u001b[0m\u001b[0m\n\u001b[1;32m---> 42\u001b[1;33m \u001b[0mmodel\u001b[0m\u001b[1;33m.\u001b[0m\u001b[0mpredict_classes\u001b[0m\u001b[1;33m(\u001b[0m\u001b[0mgray\u001b[0m\u001b[1;33m.\u001b[0m\u001b[0mreshape\u001b[0m\u001b[1;33m(\u001b[0m\u001b[1;36m1\u001b[0m\u001b[1;33m,\u001b[0m \u001b[1;36m784\u001b[0m\u001b[1;33m)\u001b[0m\u001b[1;33m)\u001b[0m\u001b[1;33m\u001b[0m\u001b[0m\n\u001b[0m",
      "\u001b[1;31mValueError\u001b[0m: cannot reshape array of size 288 into shape (1,784)"
     ]
    },
    {
     "data": {
      "image/png": "[encoded data removed]",
      "text/plain": [
       "<Figure size 432x288 with 1 Axes>"
      ]
     },
     "metadata": {},
     "output_type": "display_data"
    }
   ],
   "source": [
    "#OLD WORK \n",
    "#This is for if we had to resize from 400x400\n",
    "\n",
    "\n",
    "#we need to read the image first, in gray scale\n",
    "gray = cv2.imread('mnist_test_imgs/100x100/6_slim.png', 0) # your original image of 6\n",
    "# gray = 255-gray\n",
    "# gray = gray/255.\n",
    "\n",
    "\n",
    "gray = gray/255.\n",
    "gray[gray<.9]=0\n",
    "gray[gray>.9]=1\n",
    "    \n",
    "print(\"before resizing and padding the shape is {}\".format(gray.shape))\n",
    "gray = cv2.resize(gray, None, fx=.2, fy=.2, interpolation = cv2.INTER_LINEAR_EXACT)\n",
    "plt.imshow(gray, cmap='gray')\n",
    "\n",
    "print(np.max(gray), np.min(gray))\n",
    "\n",
    "while np.sum(gray[0]) == 0:\n",
    "#     print('The top border is black')\n",
    "    gray = gray[1:]\n",
    "\n",
    "while np.sum(gray[:,0]) == 0:\n",
    "#     print('The left border is black')\n",
    "    gray = np.delete(gray,0,1)\n",
    "\n",
    "while np.sum(gray[-1]) == 0:\n",
    "#     print('The bottom border is black')\n",
    "    gray = gray[:-1]\n",
    "\n",
    "while np.sum(gray[:,-1]) == 0:\n",
    "#     print('The bottom border is black')\n",
    "    gray = np.delete(gray,-1,1)\n",
    "    \n",
    "gray = np.lib.pad(gray,(4,4),'constant', constant_values=(0,0))\n",
    "print(\"after resizing and padding the shape is {}\".format(gray.shape))\n",
    "\n",
    "plt.imshow(gray,cmap='gray')\n",
    "# gray = cv2.blur(gray, (5,5))\n",
    "gray = cv2.GaussianBlur(gray,(9,9),0)\n",
    "plt.imshow(gray,cmap='gray')\n",
    "\n",
    "model.predict_classes(gray.reshape(1, 784))"
   ]
  },
  {
   "cell_type": "code",
   "execution_count": 179,
   "metadata": {
    "scrolled": true,
    "slideshow": {
     "slide_type": "skip"
    }
   },
   "outputs": [
    {
     "data": {
      "text/plain": [
       "<matplotlib.image.AxesImage at 0x66fbd30>"
      ]
     },
     "execution_count": 179,
     "metadata": {},
     "output_type": "execute_result"
    },
    {
     "data": {
      "image/png": "[encoded data removed]",
      "text/plain": [
       "<Figure size 432x288 with 1 Axes>"
      ]
     },
     "metadata": {},
     "output_type": "display_data"
    }
   ],
   "source": [
    "\n",
    "kernel = np.ones((3,3),np.uint8)\n",
    "kernel2 = np.ones((1,1), np.uint8)\n",
    "dilatation = cv2.dilate(gray,kernel,iterations = 1)\n",
    "erosion = cv2.erode(dilatation, kernel, iterations=1)\n",
    "plt.imshow(erosion, cmap='gray')\n"
   ]
  },
  {
   "cell_type": "code",
   "execution_count": 206,
   "metadata": {
    "slideshow": {
     "slide_type": "skip"
    }
   },
   "outputs": [
    {
     "name": "stdout",
     "output_type": "stream",
     "text": [
      "(400, 400)\n"
     ]
    },
    {
     "data": {
      "image/png": "[encoded data removed]",
      "text/plain": [
       "<Figure size 432x288 with 1 Axes>"
      ]
     },
     "metadata": {},
     "output_type": "display_data"
    }
   ],
   "source": [
    "\n",
    "\n",
    "# while np.sum(gray[0]) == 0:\n",
    "# #     print('The top border is black')\n",
    "#     gray = gray[1:]\n",
    "\n",
    "# while np.sum(gray[:,0]) == 0:\n",
    "# #     print('The left border is black')\n",
    "#     gray = np.delete(gray,0,1)\n",
    "\n",
    "# while np.sum(gray[-1]) == 0:\n",
    "# #     print('The bottom border is black')\n",
    "#     gray = gray[:-1]\n",
    "\n",
    "# while np.sum(gray[:,-1]) == 0:\n",
    "# #     print('The bottom border is black')\n",
    "#     gray = np.delete(gray,-1,1)\n",
    "\n",
    "# plt.imshow(gray)\n",
    "\n",
    "# gray = cv2.copyMakeBorder(gray,7,8,8,7,cv2.BORDER_REPLICATE)\n",
    "\n",
    "# print(gray.shape)\n",
    "\n",
    "# model.predict_classes(gray.reshape(-1, 784))\n",
    "# model.predict(X_test[0].reshape(-1, 784))\n",
    "# model.predict_classes(X_test[0].reshape(-1, 784))\n",
    "\n",
    "print(gray.shape)"
   ]
  },
  {
   "cell_type": "code",
   "execution_count": 305,
   "metadata": {
    "slideshow": {
     "slide_type": "skip"
    }
   },
   "outputs": [
    {
     "name": "stdout",
     "output_type": "stream",
     "text": [
      "(20, 20)\n"
     ]
    },
    {
     "data": {
      "text/plain": [
       "array([8], dtype=int64)"
      ]
     },
     "execution_count": 305,
     "metadata": {},
     "output_type": "execute_result"
    },
    {
     "data": {
      "image/png": "[encoded data removed]",
      "text/plain": [
       "<Figure size 432x288 with 1 Axes>"
      ]
     },
     "metadata": {},
     "output_type": "display_data"
    }
   ],
   "source": [
    "\n",
    "new1 = cv2.imread('mnist_test_imgs/400x400/400x400x5xfat.png', 0)\n",
    "new1 = cv2.resize(new1,None,fx=.1, fy=.1, interpolation=cv2.INTER_LINEAR)\n",
    "new1[new1 < .05] = 0\n",
    "\n",
    "new1 = cv2.resize(new1,None,fx=.5, fy=.5, interpolation=cv2.INTER_LINEAR)\n",
    "new1[new1>.80] = 1\n",
    "plt.imshow(new1, cmap='gray')\n",
    "print(new1.shape)\n",
    "new_im = cv2.copyMakeBorder(new1, 4, 4, 4, 4, cv2.BORDER_CONSTANT,\n",
    "    value=0)\n",
    "\n",
    "model.predict_classes(new_im.reshape(1, 784))"
   ]
  },
  {
   "cell_type": "code",
   "execution_count": 274,
   "metadata": {
    "slideshow": {
     "slide_type": "skip"
    }
   },
   "outputs": [
    {
     "data": {
      "text/plain": [
       "<matplotlib.image.AxesImage at 0x297575f8>"
      ]
     },
     "execution_count": 274,
     "metadata": {},
     "output_type": "execute_result"
    },
    {
     "data": {
      "image/png": "[encoded data removed]",
      "text/plain": [
       "<Figure size 432x288 with 1 Axes>"
      ]
     },
     "metadata": {},
     "output_type": "display_data"
    }
   ],
   "source": [
    "\n",
    "kernel = np.ones((1,1),np.uint8)\n",
    "dilatation = cv2.dilate(new_im,kernel,iterations = 1)\n",
    "\n",
    "plt.imshow(dilatation)"
   ]
  },
  {
   "cell_type": "code",
   "execution_count": 262,
   "metadata": {
    "slideshow": {
     "slide_type": "skip"
    }
   },
   "outputs": [
    {
     "name": "stdout",
     "output_type": "stream",
     "text": [
      "Parsing Images In C:\\Users\\jaehan\\PycharmProjects\\mnist\\mnist_test_imgs\\400x400\\\n",
      "400x400x3.png\n",
      "400x400x4xfat.png\n",
      "400x400x4xslim.png\n",
      "400x400x5xfat.png\n",
      "400x400x5xslim.png\n",
      "400x400x6xfat.png\n",
      "400x400x6xslim.png\n",
      "Let's display the first 9 images drawn...\n"
     ]
    },
    {
     "data": {
      "image/png": "[encoded data removed]",
      "text/plain": [
       "<Figure size 432x288 with 6 Axes>"
      ]
     },
     "metadata": {},
     "output_type": "display_data"
    }
   ],
   "source": [
    "\n",
    "\n",
    "im_fns = []\n",
    "reshaped_imgs = []\n",
    "\n",
    "img_path = os.path.realpath(os.getcwd()) + \"\\\\mnist_test_imgs\\\\400x400\\\\\"\n",
    "print('Parsing Images In {}'.format(img_path))\n",
    "\n",
    "for fn in os.listdir(img_path):\n",
    "    print(fn)\n",
    "    if os.path.isdir('mnist_test_imgs\\\\' + fn):\n",
    "        print('This is a DIR: {}'.format(fn))\n",
    "        continue\n",
    "    else:\n",
    "        im = cv2.imread(img_path + fn, 0)\n",
    "        im_resized = cv2.resize(src=im, dsize=(28,28), interpolation=cv2.INTER_LINEAR)\n",
    "        im_reshaped = im_resized.reshape(1, 784).astype('float32')/255.\n",
    "        im_fns.append(fn)\n",
    "        reshaped_imgs.append(im_reshaped)\n",
    "\n",
    "        \n",
    "        \n",
    "print('Let\\'s display the first 9 images drawn...')\n",
    "fig = plt.figure()\n",
    "for i in range(6):\n",
    "    ax = plt.subplot(3,3,i+1)\n",
    "    plt.imshow(reshaped_imgs[i].reshape(28,28))\n",
    "    plt.title(\"Test Image {}\".format(im_fns[i]))\n",
    "    fig.subplots_adjust(hspace=2)\n",
    "    ax.set_xticklabels([])\n",
    "    ax.set_yticklabels([])\n",
    "plt.savefig('mnist_first_9_samples')\n",
    "    \n",
    "    "
   ]
  },
  {
   "cell_type": "code",
   "execution_count": 5,
   "metadata": {
    "slideshow": {
     "slide_type": "skip"
    }
   },
   "outputs": [
    {
     "data": {
      "text/plain": [
       "<matplotlib.image.AxesImage at 0x23003e10>"
      ]
     },
     "execution_count": 5,
     "metadata": {},
     "output_type": "execute_result"
    },
    {
     "data": {
      "image/png": "[encoded data removed]",
      "text/plain": [
       "<Figure size 432x288 with 1 Axes>"
      ]
     },
     "metadata": {},
     "output_type": "display_data"
    }
   ],
   "source": [
    "from matplotlib import pyplot as plt\n",
    "%matplotlib inline\n",
    "\n",
    "fig = plt.figure()\n",
    "for i in range(9):\n",
    "    ax = plt.subplot(3,3,i+1)\n",
    "    plt.imshow(x_train[i].reshape(28,28), cmap='gray', interpolation='none')\n",
    "    plt.title(\"Class {}\".format(y_train[i]))\n",
    "    fig.subplots_adjust(hspace=.8)\n",
    "    ax.set_xticklabels([])\n",
    "    ax.set_yticklabels([])\n",
    "\n",
    "plt.savefig('example_mnist_imgs.png')\n",
    "im1 = np.array(x_train[:1]).reshape(28, 28)\n",
    "# cv2.imwrite('mnist_sample1.jpg', im1)\n",
    "plt.imshow(im1)"
   ]
  }
 ],
 "metadata": {
  "celltoolbar": "Slideshow",
  "kernelspec": {
   "display_name": "Python [conda env:py36]",
   "language": "python",
   "name": "conda-env-py36-py"
  },
  "language_info": {
   "codemirror_mode": {
    "name": "ipython",
    "version": 3
   },
   "file_extension": ".py",
   "mimetype": "text/x-python",
   "name": "python",
   "nbconvert_exporter": "python",
   "pygments_lexer": "ipython3",
   "version": "3.6.5"
  },
  "livereveal": {
   "height": 1024,
   "scroll": true,
   "theme": "sky",
   "width": 2048
  }
 },
 "nbformat": 4,
 "nbformat_minor": 2
}
